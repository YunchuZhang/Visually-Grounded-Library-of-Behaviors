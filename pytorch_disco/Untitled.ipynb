{
 "cells": [
  {
   "cell_type": "code",
   "execution_count": 1,
   "metadata": {},
   "outputs": [],
   "source": [
    "import torch\n",
    "import torch.nn as nn\n",
    "import numpy as np"
   ]
  },
  {
   "cell_type": "code",
   "execution_count": 2,
   "metadata": {},
   "outputs": [],
   "source": [
    "import queue"
   ]
  },
  {
   "cell_type": "markdown",
   "metadata": {},
   "source": [
    "### Momentum Contrastive learning\n",
    "\n",
    "This notebook contains stand-alone implmentation of Momentum contrastive learning.\n",
    "Things to keep in mind, should not depend on the dataset or the network\n",
    "\n",
    "Still need to figure out the batch norm thing"
   ]
  },
  {
   "cell_type": "code",
   "execution_count": 3,
   "metadata": {},
   "outputs": [],
   "source": [
    "class MOC(nn.Module):\n",
    "    def __init__(self, dict_size=10000, update_momentum=0.999):\n",
    "        super(MOC, self).__init__()\n",
    "        \n",
    "        self.moc_queue = queue.Queue()\n",
    "        self.moc_momentum = update_momentum\n",
    "        self.loss = \n",
    "        \n",
    "    \n",
    "    def forward(self, x_q, x_k, k_encoder, q_encoder):\n",
    "        # the algorithm is basically copied from the paper here\n",
    "        q = q_encoder(x_q) ## N x C\n",
    "        k = k_encoder(x_k) ## N x C\n",
    "        k = k.detach()  # no gradient to keys\n",
    "        \n",
    "        # do the dot product for the positives, for me I want to\n",
    "        # minimize the distance of positives and maximize the\n",
    "        # distance to the negatives\n",
    "        l_pos = d\n",
    "        l_neg =\n",
    "        \n",
    "        # logits"
   ]
  },
  {
   "cell_type": "code",
   "execution_count": null,
   "metadata": {},
   "outputs": [],
   "source": []
  }
 ],
 "metadata": {
  "kernelspec": {
   "display_name": "Python 3",
   "language": "python",
   "name": "python3"
  },
  "language_info": {
   "codemirror_mode": {
    "name": "ipython",
    "version": 3
   },
   "file_extension": ".py",
   "mimetype": "text/x-python",
   "name": "python",
   "nbconvert_exporter": "python",
   "pygments_lexer": "ipython3",
   "version": "3.6.7"
  }
 },
 "nbformat": 4,
 "nbformat_minor": 4
}
