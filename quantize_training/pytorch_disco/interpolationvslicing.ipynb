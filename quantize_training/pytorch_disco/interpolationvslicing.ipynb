{
 "cells": [
  {
   "cell_type": "code",
   "execution_count": 101,
   "metadata": {},
   "outputs": [],
   "source": [
    "import torch\n",
    "import os\n",
    "import numpy as np"
   ]
  },
  {
   "cell_type": "markdown",
   "metadata": {},
   "source": [
    "## Purpose of this notebook\n",
    "\n",
    "This notebook basically is helping me calm my mind, by showing that if you want to get a box from bigger image in two equivalent ways. The interpolation is used heavily by the Adam's code and I did not really understand why the two are equivivalent. So I decided to sit down and see this myself in 2D.\n",
    "\n",
    "#### Side Effects\n",
    "* It taught me how to use F.grid_sample functionality of Pytorch. This notebook is basically Peter Florence's copy from here https://gist.github.com/peteflorence/a1da2c759ca1ac2b74af9a83f69ce20e, except he does much more but only for one location.\n",
    "* I demonstrate it over the grid."
   ]
  },
  {
   "cell_type": "code",
   "execution_count": 102,
   "metadata": {},
   "outputs": [
    {
     "name": "stdout",
     "output_type": "stream",
     "text": [
      "README.md                hyperparams.py            \u001b[0m\u001b[01;34mruns\u001b[0m/\n",
      "Untitled.ipynb           hyperparams.pyc           \u001b[01;32msing.sh\u001b[0m*\n",
      "\u001b[01;34m__pycache__\u001b[0m/             \u001b[01;34mlogs_carla_sta\u001b[0m/           \u001b[01;32mtb.sh\u001b[0m*\n",
      "\u001b[01;35mafter_fix0.jpg\u001b[0m           \u001b[01;34mlogs_mujoco_offline\u001b[0m/      temp.binvox\n",
      "\u001b[01;35mafter_fix1.jpg\u001b[0m           \u001b[01;34mlogs_touch_embed\u001b[0m/         \u001b[01;35mtemp_depth.jpg\u001b[0m\n",
      "\u001b[01;35mafter_fix2.jpg\u001b[0m           main.py                   \u001b[01;34mtemp_save\u001b[0m/\n",
      "\u001b[01;34marchs\u001b[0m/                   make_train_file.py        temp_touch_model.py\n",
      "\u001b[01;34mbackend\u001b[0m/                 model_base.py             \u001b[01;32mtunnel.sh\u001b[0m*\n",
      "binvox_rw.py             model_carla_flo.py        utils_basic.py\n",
      "\u001b[01;32mcarla_flo_go.sh\u001b[0m*         model_carla_sta.py        utils_basic.pyc\n",
      "\u001b[01;32mcarla_sta_go.sh\u001b[0m*         model_mujoco_offline.py   utils_box.pyc\n",
      "\u001b[01;34mcheckpoints\u001b[0m/             model_touch_embed.py      utils_eval.py\n",
      "\u001b[01;34mcuda_ops\u001b[0m/                \u001b[01;34mmujoco_points\u001b[0m/            utils_geom.py\n",
      "\u001b[01;32mcustom_go.sh\u001b[0m*            \u001b[01;34mmy_mujoco_points\u001b[0m/         utils_geom.pyc\n",
      "\u001b[01;35mdepth_after_shuffle.jpg\u001b[0m  \u001b[01;34mnets\u001b[0m/                     utils_improc.py\n",
      "exp_base.py              \u001b[01;35mnew_depth.png\u001b[0m             utils_improc.pyc\n",
      "exp_carla_flo.py         notes.txt                 utils_misc.py\n",
      "exp_carla_sta.py         \u001b[01;35mold_depth.png\u001b[0m             utils_samp.py\n",
      "exp_mujoco_offline.py    \u001b[01;34mpoints\u001b[0m/                   utils_vox.py\n",
      "exp_touch_emb.py         pretrained_nets_carla.py  vis_sensor_data.ipynb\n",
      "\u001b[01;34mforward_pass_save\u001b[0m/       \u001b[01;32mr.sh\u001b[0m*\n",
      "\u001b[01;32mgpu.sh\u001b[0m*                  \u001b[01;35mref_img.jpg\u001b[0m\n"
     ]
    }
   ],
   "source": [
    "%ls"
   ]
  },
  {
   "cell_type": "code",
   "execution_count": 103,
   "metadata": {},
   "outputs": [],
   "source": [
    "image = \"/home/gauravp/baby-groot.jpg\""
   ]
  },
  {
   "cell_type": "code",
   "execution_count": 104,
   "metadata": {},
   "outputs": [],
   "source": [
    "import PIL.Image as Image\n",
    "import matplotlib.pyplot as plt"
   ]
  },
  {
   "cell_type": "code",
   "execution_count": 105,
   "metadata": {},
   "outputs": [],
   "source": [
    "img = Image.open(image)"
   ]
  },
  {
   "cell_type": "code",
   "execution_count": 106,
   "metadata": {},
   "outputs": [],
   "source": [
    "img = img.resize(size=(256, 256))"
   ]
  },
  {
   "cell_type": "code",
   "execution_count": 107,
   "metadata": {},
   "outputs": [
    {
     "name": "stdout",
     "output_type": "stream",
     "text": [
      "(256, 256, 3)\n"
     ]
    }
   ],
   "source": [
    "img = np.asarray(img)\n",
    "print(img.shape)"
   ]
  },
  {
   "cell_type": "code",
   "execution_count": 108,
   "metadata": {},
   "outputs": [],
   "source": [
    "# slice up the image from the center of the image which is 128, 128\n",
    "cx, cy = 128, 128\n",
    "# see the assumption is x right and y goes down\n",
    "xmin, xmax = (cx-32, cx+32)\n",
    "ymin, ymax = (cy-32, cy+32)\n",
    "sliced_img = img[ymin:ymax, xmin:xmax,:]"
   ]
  },
  {
   "cell_type": "code",
   "execution_count": 109,
   "metadata": {},
   "outputs": [
    {
     "data": {
      "text/plain": [
       "<matplotlib.image.AxesImage at 0x7fd3e7a5a5c0>"
      ]
     },
     "execution_count": 109,
     "metadata": {},
     "output_type": "execute_result"
    },
    {
     "data": {
      "image/png": "[encoded data removed]",
      "text/plain": [
       "<Figure size 432x288 with 1 Axes>"
      ]
     },
     "metadata": {
      "needs_background": "light"
     },
     "output_type": "display_data"
    }
   ],
   "source": [
    "plt.imshow(sliced_img)"
   ]
  },
  {
   "cell_type": "markdown",
   "metadata": {},
   "source": [
    "## Using grid sample to achieve the same thing\n",
    "\n",
    "### Steps:\n",
    "1. form the grid of size (1, 32, 32, 2) containing the pixel values you want to sample at:\n",
    "    * This is a mesh grid from (xmin, xmax, ymin, ymax)\n",
    "    * Normalize this grid"
   ]
  },
  {
   "cell_type": "code",
   "execution_count": 110,
   "metadata": {},
   "outputs": [],
   "source": [
    "def make_grid(xmin,xmax,ymin,ymax,locs=64):\n",
    "    xv = np.linspace(xmin, xmax, 64)\n",
    "    yv = np.linspace(ymin, ymax, 64)\n",
    "    grid = np.meshgrid(yv, xv)\n",
    "    grid = np.stack((grid), axis=2)\n",
    "    return grid"
   ]
  },
  {
   "cell_type": "code",
   "execution_count": 111,
   "metadata": {},
   "outputs": [],
   "source": [
    "grid = make_grid(xmin, xmax, ymin, ymax, locs=64)"
   ]
  },
  {
   "cell_type": "code",
   "execution_count": 112,
   "metadata": {},
   "outputs": [],
   "source": [
    "def normalize_grid(grid, H=256, W=256):\n",
    "    grid[:, :, 0] = grid[:, :, 0] / (float(H)-1)\n",
    "    grid[:, :, 1] = grid[:, :, 1] / (float(W)-1)\n",
    "    grid = 2*grid - 1\n",
    "    return grid"
   ]
  },
  {
   "cell_type": "code",
   "execution_count": 113,
   "metadata": {},
   "outputs": [],
   "source": [
    "normalized_grid = normalize_grid(grid)"
   ]
  },
  {
   "cell_type": "code",
   "execution_count": 114,
   "metadata": {},
   "outputs": [
    {
     "name": "stdout",
     "output_type": "stream",
     "text": [
      "torch.Size([1, 3, 256, 256])\n"
     ]
    }
   ],
   "source": [
    "# finally sample at these locations from the bigger image using torch\n",
    "torch_img = torch.from_numpy(img)\n",
    "torch_img = torch_img.permute(2, 0, 1)\n",
    "torch_img = torch.unsqueeze(torch_img, 0)\n",
    "print(torch_img.shape)"
   ]
  },
  {
   "cell_type": "code",
   "execution_count": 115,
   "metadata": {},
   "outputs": [],
   "source": [
    "torch_img = torch_img.float()"
   ]
  },
  {
   "cell_type": "code",
   "execution_count": 116,
   "metadata": {},
   "outputs": [],
   "source": [
    "normalized_grid = torch.from_numpy(normalized_grid).float()"
   ]
  },
  {
   "cell_type": "code",
   "execution_count": 117,
   "metadata": {},
   "outputs": [],
   "source": [
    "normalized_grid = torch.unsqueeze(normalized_grid, 0)"
   ]
  },
  {
   "cell_type": "code",
   "execution_count": 118,
   "metadata": {},
   "outputs": [
    {
     "name": "stdout",
     "output_type": "stream",
     "text": [
      "torch.Size([1, 64, 64, 2])\n"
     ]
    }
   ],
   "source": [
    "print(normalized_grid.shape)"
   ]
  },
  {
   "cell_type": "code",
   "execution_count": 119,
   "metadata": {},
   "outputs": [],
   "source": [
    "# finally sample at these locations\n",
    "sampled_img = torch.nn.functional.grid_sample(torch_img, normalized_grid)"
   ]
  },
  {
   "cell_type": "code",
   "execution_count": 120,
   "metadata": {},
   "outputs": [],
   "source": [
    "sampled_img = sampled_img.squeeze(0).permute(1, 2, 0).cpu().numpy()"
   ]
  },
  {
   "cell_type": "code",
   "execution_count": 121,
   "metadata": {},
   "outputs": [],
   "source": [
    "sampled_img = sampled_img.astype(np.uint8)"
   ]
  },
  {
   "cell_type": "code",
   "execution_count": 122,
   "metadata": {},
   "outputs": [
    {
     "data": {
      "text/plain": [
       "<matplotlib.image.AxesImage at 0x7fd3e7a5aac8>"
      ]
     },
     "execution_count": 122,
     "metadata": {},
     "output_type": "execute_result"
    },
    {
     "data": {
      "image/png": "[encoded data removed]",
      "text/plain": [
       "<Figure size 432x288 with 1 Axes>"
      ]
     },
     "metadata": {
      "needs_background": "light"
     },
     "output_type": "display_data"
    }
   ],
   "source": [
    "plt.imshow(sampled_img)"
   ]
  },
  {
   "cell_type": "markdown",
   "metadata": {},
   "source": [
    "## Conclusion:\n",
    "1. I get my peace of mind, that slicing is equivalent to bilinear sampling.\n",
    "2. Slicing gives more jaggedy output whereas the bilinear sampling gives me more smooth output as seen in sliced_img plot vs sample_img plot\n",
    "3. I can go ahead and do this same thing in 3d"
   ]
  },
  {
   "cell_type": "code",
   "execution_count": null,
   "metadata": {},
   "outputs": [],
   "source": []
  }
 ],
 "metadata": {
  "kernelspec": {
   "display_name": "Python 3",
   "language": "python",
   "name": "python3"
  },
  "language_info": {
   "codemirror_mode": {
    "name": "ipython",
    "version": 3
   },
   "file_extension": ".py",
   "mimetype": "text/x-python",
   "name": "python",
   "nbconvert_exporter": "python",
   "pygments_lexer": "ipython3",
   "version": "3.6.7"
  }
 },
 "nbformat": 4,
 "nbformat_minor": 4
}
