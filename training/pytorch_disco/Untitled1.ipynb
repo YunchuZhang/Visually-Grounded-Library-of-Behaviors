{
 "cells": [
  {
   "cell_type": "code",
   "execution_count": 1,
   "metadata": {},
   "outputs": [],
   "source": [
    "%load_ext autoreload\n",
    "%autoreload 2"
   ]
  },
  {
   "cell_type": "code",
   "execution_count": 2,
   "metadata": {},
   "outputs": [],
   "source": [
    "%matplotlib inline\n",
    "import matplotlib.pyplot as plt"
   ]
  },
  {
   "cell_type": "code",
   "execution_count": 15,
   "metadata": {},
   "outputs": [],
   "source": [
    "# torch numpy and os imports\n",
    "import torch\n",
    "import torch.nn as nn\n",
    "import torch.nn.functional as F\n",
    "from torch.utils.data import DataLoader\n",
    "\n",
    "import os\n",
    "import numpy as np"
   ]
  },
  {
   "cell_type": "code",
   "execution_count": 8,
   "metadata": {},
   "outputs": [],
   "source": [
    "# module imports from pytorch_disco\n",
    "from nets.quant_policy_metric_models import EmbeddingGenerator3D\n",
    "from backend.quant_metric_inputs import MetricLearningData\n",
    "\n",
    "import utils_improc"
   ]
  },
  {
   "cell_type": "code",
   "execution_count": 6,
   "metadata": {},
   "outputs": [],
   "source": [
    "# form the training and validation dataset\n",
    "\n",
    "train_dataset = MetricLearningData(data_dir=\"/projects/katefgroup/shared_quant_models/train_extracted_obj_tensors\")\n",
    "val_dataset = MetricLearningData(data_dir=\"/projects/katefgroup/shared_quant_models/val_extracted_object_tensors\")"
   ]
  },
  {
   "cell_type": "code",
   "execution_count": 11,
   "metadata": {},
   "outputs": [
    {
     "name": "stdout",
     "output_type": "stream",
     "text": [
      "(32, 32, 32, 32)\n",
      "1\n"
     ]
    }
   ],
   "source": [
    "print(train_dataset[0]['tensor'].shape)\n",
    "print(train_dataset[0]['label'])"
   ]
  },
  {
   "cell_type": "code",
   "execution_count": 18,
   "metadata": {},
   "outputs": [],
   "source": [
    "# hyperparams need to find a better way\n",
    "BATCH_SIZE = 16\n",
    "NUM_EPOCHS = 1\n",
    "LR = 1e-4"
   ]
  },
  {
   "cell_type": "code",
   "execution_count": 16,
   "metadata": {},
   "outputs": [],
   "source": [
    "# form the train and the val dataloader\n",
    "train_dataloader = DataLoader(train_dataset, batch_size=BATCH_SIZE, shuffle=True, drop_last=True)\n",
    "val_datalaoder = DataLoader(val_dataset, batch_size=1, shuffle=False, drop_last=False)"
   ]
  },
  {
   "cell_type": "code",
   "execution_count": 12,
   "metadata": {},
   "outputs": [
    {
     "name": "stdout",
     "output_type": "stream",
     "text": [
      "down dims:  [32, 64, 128]\n",
      "up dims:  [128, 64]\n"
     ]
    }
   ],
   "source": [
    "# now form the model, which needs to be edited to include a summary writer in its forward pass\n",
    "model = EmbeddingGenerator3D(emb_dim=16)"
   ]
  },
  {
   "cell_type": "code",
   "execution_count": null,
   "metadata": {},
   "outputs": [],
   "source": [
    "# train loop"
   ]
  }
 ],
 "metadata": {
  "kernelspec": {
   "display_name": "Python 3",
   "language": "python",
   "name": "python3"
  },
  "language_info": {
   "codemirror_mode": {
    "name": "ipython",
    "version": 3
   },
   "file_extension": ".py",
   "mimetype": "text/x-python",
   "name": "python",
   "nbconvert_exporter": "python",
   "pygments_lexer": "ipython3",
   "version": "3.6.10"
  }
 },
 "nbformat": 4,
 "nbformat_minor": 4
}
